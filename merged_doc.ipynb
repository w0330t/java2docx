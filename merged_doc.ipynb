{
 "cells": [
  {
   "cell_type": "code",
   "execution_count": 3,
   "metadata": {
    "metadata": {}
   },
   "outputs": [],
   "source": [
    "import os\n",
    "import random\n",
    "from docx import Document\n",
    "\n",
    "# 设置输入文件夹和输出文件的路径\n",
    "input_folder = \"./output\"\n",
    "output_file = \"./merged_doc.docx\"\n",
    "num_pages_to_keep = 70\n",
    "\n",
    "\n",
    "\n",
    "# 获取文件夹中的所有docx文件路径\n",
    "docx_files = [os.path.join(input_folder, file) for file in os.listdir(input_folder) if file.endswith(\".docx\")]\n",
    "\n",
    "# 随机选择并打开docx文件\n",
    "random_files = random.sample(docx_files, len(docx_files))\n",
    "\n",
    "# 创建一个新的Word文档用于合并\n",
    "merged_doc = Document()\n",
    "\n",
    "# 合并docx文件\n",
    "total_pages = 0\n",
    "for file in random_files:\n",
    "    doc = Document(file)\n",
    "    total_pages += len(doc.paragraphs)  # 计算每个文档的页数\n",
    "    for para in doc.paragraphs:\n",
    "        merged_doc.add_paragraph(para.text)\n",
    "    # 如果合并后的页数超过了指定的页数，停止合并\n",
    "    if total_pages >= num_pages_to_keep:\n",
    "        break\n",
    "\n",
    "# 保存合并后的docx文件\n",
    "merged_doc.save(output_file)\n",
    "\n"
   ]
  },
  {
   "cell_type": "code",
   "execution_count": null,
   "metadata": {},
   "outputs": [],
   "source": []
  }
 ],
 "metadata": {
  "kernelspec": {
   "display_name": "test",
   "language": "python",
   "name": "python3"
  },
  "language_info": {
   "codemirror_mode": {
    "name": "ipython",
    "version": 3
   },
   "file_extension": ".py",
   "mimetype": "text/x-python",
   "name": "python",
   "nbconvert_exporter": "python",
   "pygments_lexer": "ipython3",
   "version": "3.11.8"
  }
 },
 "nbformat": 4,
 "nbformat_minor": 2
}
