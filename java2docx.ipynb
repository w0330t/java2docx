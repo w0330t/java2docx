{
 "cells": [
  {
   "cell_type": "code",
   "execution_count": 1,
   "metadata": {
    "metadata": {}
   },
   "outputs": [],
   "source": [
    "import os\n",
    "import glob\n",
    "from docx import Document\n",
    "\n",
    "# 设置输入文件夹和输出文件夹的路径\n",
    "input_folder = \"input\"\n",
    "output_folder = \"output\""
   ]
  },
  {
   "cell_type": "code",
   "execution_count": 2,
   "metadata": {
    "metadata": {}
   },
   "outputs": [],
   "source": [
    "for root, dirs, files in os.walk(input_folder):\n",
    "    for file in files:\n",
    "        # 确保是java文件\n",
    "        if file.endswith(\".java\"):\n",
    "            # 构建java文件的完整路径\n",
    "            java_file_path = os.path.join(root, file)\n",
    "            # 构建docx文件的完整路径，保持文件名不变\n",
    "            docx_file_path = os.path.join(output_folder, file.replace(\".java\", \".docx\"))\n",
    "            \n",
    "            # 创建一个新的Word文档\n",
    "            doc = Document()\n",
    "            \n",
    "            # 读取java文件内容并写入到docx中\n",
    "            with open(java_file_path, \"r\", encoding=\"utf-8\") as java_file:\n",
    "                java_code = java_file.read()\n",
    "                doc.add_paragraph(java_code)\n",
    "            \n",
    "            # 保存docx文件\n",
    "            doc.save(docx_file_path)"
   ]
  },
  {
   "cell_type": "code",
   "execution_count": null,
   "metadata": {},
   "outputs": [],
   "source": []
  }
 ],
 "metadata": {
  "kernelspec": {
   "display_name": "Python 3",
   "language": "python",
   "name": "python3"
  },
  "language_info": {
   "codemirror_mode": {
    "name": "ipython",
    "version": 3
   },
   "file_extension": ".py",
   "mimetype": "text/x-python",
   "name": "python",
   "nbconvert_exporter": "python",
   "pygments_lexer": "ipython3",
   "version": "3.11.8"
  }
 },
 "nbformat": 4,
 "nbformat_minor": 2
}
